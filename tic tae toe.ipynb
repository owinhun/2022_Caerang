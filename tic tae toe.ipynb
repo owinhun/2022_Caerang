{
 "cells": [
  {
   "cell_type": "code",
   "execution_count": 1,
   "id": "674f5273-c056-4fa1-a435-108bd173fece",
   "metadata": {},
   "outputs": [
    {
     "name": "stdin",
     "output_type": "stream",
     "text": [
      "X를 놓을 위치 번호를 선택하세요(1~9) 9\n"
     ]
    },
    {
     "name": "stdout",
     "output_type": "stream",
     "text": [
      " | | \n",
      "------\n",
      " | | \n",
      "------\n",
      " | |X\n"
     ]
    },
    {
     "name": "stdin",
     "output_type": "stream",
     "text": [
      "O를 놓을 위치 번호를 선택하세요(1~9) 5\n"
     ]
    },
    {
     "name": "stdout",
     "output_type": "stream",
     "text": [
      " | | \n",
      "------\n",
      " |O| \n",
      "------\n",
      " | |X\n"
     ]
    },
    {
     "name": "stdin",
     "output_type": "stream",
     "text": [
      "X를 놓을 위치 번호를 선택하세요(1~9) 6\n"
     ]
    },
    {
     "name": "stdout",
     "output_type": "stream",
     "text": [
      " | | \n",
      "------\n",
      " |O|X\n",
      "------\n",
      " | |X\n"
     ]
    },
    {
     "name": "stdin",
     "output_type": "stream",
     "text": [
      "O를 놓을 위치 번호를 선택하세요(1~9) 9\n"
     ]
    },
    {
     "name": "stdout",
     "output_type": "stream",
     "text": [
      "중복된 위치입니다. 다른 번호를 입력해주세요\n"
     ]
    },
    {
     "name": "stdin",
     "output_type": "stream",
     "text": [
      "O를 놓을 위치 번호를 선택하세요(1~9) 3\n"
     ]
    },
    {
     "name": "stdout",
     "output_type": "stream",
     "text": [
      " | |O\n",
      "------\n",
      " |O|X\n",
      "------\n",
      " | |X\n"
     ]
    },
    {
     "name": "stdin",
     "output_type": "stream",
     "text": [
      "X를 놓을 위치 번호를 선택하세요(1~9) 7\n"
     ]
    },
    {
     "name": "stdout",
     "output_type": "stream",
     "text": [
      " | |O\n",
      "------\n",
      " |O|X\n",
      "------\n",
      "X| |X\n"
     ]
    },
    {
     "name": "stdin",
     "output_type": "stream",
     "text": [
      "O를 놓을 위치 번호를 선택하세요(1~9) 2\n"
     ]
    },
    {
     "name": "stdout",
     "output_type": "stream",
     "text": [
      " |O|O\n",
      "------\n",
      " |O|X\n",
      "------\n",
      "X| |X\n"
     ]
    },
    {
     "name": "stdin",
     "output_type": "stream",
     "text": [
      "X를 놓을 위치 번호를 선택하세요(1~9) 8\n"
     ]
    },
    {
     "name": "stdout",
     "output_type": "stream",
     "text": [
      " |O|O\n",
      "------\n",
      " |O|X\n",
      "------\n",
      "X|X|X\n",
      "승리는 'X'입니다\n"
     ]
    }
   ],
   "source": [
    "# inputDict= {\n",
    "#     1 : \" \", 2 : \" \", 3 : \" \",\n",
    "#     4 : \" \", 5 : \" \", 6 : \" \",\n",
    "#     7 : \" \", 8 : \" \", 9 : \" \",\n",
    "# }\n",
    "\n",
    "# def checkDuplicate(position):\n",
    "#     duplicateCheck = False\n",
    "#     if inputDict[position] != \" \":\n",
    "#         duplicateCheck = True\n",
    "\n",
    "#     return duplicateCheck\n",
    "\n",
    "# def setData(position,value):\n",
    "#     inputDict[position] = value\n",
    "\n",
    "\n",
    "# def printBoard():\n",
    "#     print(\"{}|{}|{}\".format(inputDict[1],inputDict[2],inputDict[3]))\n",
    "#     print(\"------\")\n",
    "#     print(\"{}|{}|{}\".format(inputDict[4],inputDict[5],inputDict[6]))\n",
    "#     print(\"------\")\n",
    "#     print(\"{}|{}|{}\".format(inputDict[7],inputDict[8],inputDict[9]))\n",
    "\n",
    "\n",
    "# def confirmVictory(turn):\n",
    "#     if inputDict[1] == turn and inputDict[2]  == turn and inputDict[3] == turn:\n",
    "#          return True\n",
    "#     elif inputDict[1] == turn and inputDict[4]  == turn and inputDict[7] == turn:\n",
    "#          return True\n",
    "#     elif inputDict[1] == turn and inputDict[5]  == turn and inputDict[9] == turn:\n",
    "#          return True\n",
    "#     elif inputDict[4] == turn and inputDict[5]  == turn and inputDict[6] == turn:\n",
    "#          return True\n",
    "#     elif inputDict[7] == turn and inputDict[8]  == turn and inputDict[9] == turn:\n",
    "#          return True\n",
    "#     elif inputDict[2] == turn and inputDict[5]  == turn and inputDict[8] == turn:\n",
    "#          return True\n",
    "#     elif inputDict[7] == turn and inputDict[5]  == turn and inputDict[3] == turn:\n",
    "#          return True\n",
    "#     elif inputDict[3] == turn and inputDict[6]  == turn and inputDict[9] == turn:\n",
    "#          return True\n",
    "#     else:\n",
    "#          return False\n",
    "         \n",
    "# def isValid(value):\n",
    "#     isValid = True\n",
    "#     if not value.isnumeric():\n",
    "#         print(\"숫자가 아닙니다.　다시 입력해주세요.\")\n",
    "#         isValid = False\n",
    "#     elif 0 > int(value) and int(value) >= 10 :\n",
    "#         print(\"0~9 범위의 숫자가 아닙니다.　다시 입력해주세요.\")\n",
    "#         isValid = False\n",
    "#     elif checkDuplicate(int(value)) == True:\n",
    "#         print(\"중복된 위치입니다. 다른 번호를 입력해주세요\") \n",
    "#         isValid = False\n",
    "    \n",
    "#     return isValid\n",
    "\n",
    "\n",
    "# turn = \"X\"\n",
    "# count = 1\n",
    "# while True:\n",
    "#     if turn == \"X\":\n",
    "#         positionX = input(\"X를 놓을 위치 번호를 선택하세요(1~9)\")\n",
    "#         valueX = \"X\"\n",
    "        \n",
    "#         if isValid(positionX) == False:\n",
    "#             continue\n",
    "\n",
    "#         setData(int(positionX),valueX)\n",
    "#         printBoard()\n",
    "#         count += 1\n",
    "#         isVictory = confirmVictory(turn)\n",
    "#         if isVictory == True:\n",
    "#             break\n",
    "#         else:\n",
    "#             turn = \"O\"\n",
    "\n",
    "#     elif turn == \"O\":\n",
    "#         positionO = input(\"O를 놓을 위치 번호를 선택하세요(1~9)\")\n",
    "#         valueO = \"O\"\n",
    "\n",
    "#         if isValid(positionO) == False:\n",
    "#             continue\n",
    "\n",
    "#         setData(int(positionO),valueO)\n",
    "#         printBoard()\n",
    "#         count += 1\n",
    "\n",
    "#         isVictory = confirmVictory(turn)\n",
    "\n",
    "#         if isVictory == True:\n",
    "#             break\n",
    "#         else:\n",
    "#             turn = \"X\"\n",
    "\n",
    "#     if count >= 10:\n",
    "#         break\n",
    "\n",
    "\n",
    "# if count == 10:\n",
    "#     print(\"무승부입니다\")\n",
    "# else:\n",
    "#     print(\"승리는 '{}'입니다\".format(turn))\n",
    "\n",
    "\n"
   ]
  },
  {
   "cell_type": "code",
   "execution_count": 28,
   "id": "a2e98afa-b02d-4b01-bbb0-1ed9bcd38f05",
   "metadata": {},
   "outputs": [
    {
     "name": "stdout",
     "output_type": "stream",
     "text": [
      "X 가 이겼습니다.\n"
     ]
    }
   ],
   "source": [
    "import pygame # 1. pygame 선언\n",
    "pygame.init() # 2. pygame 초기화\n",
    "# 3. pygame에 사용되는 전역변수 선언\n",
    "white = (255,255,255)\n",
    "black = (0, 0, 0)\n",
    "yellow = (255, 255, 0)\n",
    "red = (255, 0, 0)\n",
    "blue = (0, 0, 153)\n",
    "sky = (51, 153, 255)\n",
    "green = (102, 204, 0)\n",
    "orange = (255, 153, 0)\n",
    "deep_green = (0, 51, 51)\n",
    "brown = (102, 51, 0)\n",
    "baise = (255, 204, 153)\n",
    "\n",
    "end_game_representation = pygame.font.SysFont(None, 150)\n",
    "gaming_representation = pygame.font.SysFont(None, 150)\n",
    "game_size = [600,600]\n",
    "game_screen = pygame.display.set_mode(game_size)\n",
    "turn = 0 \n",
    "grid = [' ', ' ', ' ', \n",
    "        ' ', ' ', ' ', \n",
    "        ' ', ' ', ' ']\n",
    "done = False\n",
    "clock = pygame.time.Clock()\n",
    "def result(grid, position):\n",
    "    if grid[position] == ' ':\n",
    "        return True\n",
    "    else:\n",
    "        return False\n",
    "def winner(grid, mark):\n",
    "    if (grid[0] == mark and grid[1] == mark and grid[2] == mark) or \\\n",
    "        (grid[3] == mark and grid[4] == mark and grid[5] == mark) or \\\n",
    "        (grid[6] == mark and grid[7] == mark and grid[8] == mark) or \\\n",
    "        (grid[0] == mark and grid[3] == mark and grid[6] == mark) or \\\n",
    "        (grid[1] == mark and grid[4] == mark and grid[7] == mark) or \\\n",
    "        (grid[2] == mark and grid[5] == mark and grid[8] == mark) or \\\n",
    "        (grid[0] == mark and grid[4] == mark and grid[8] == mark) or \\\n",
    "        (grid[2] == mark and grid[4] == mark and grid[6] == mark):\n",
    "        return True\n",
    "    else:\n",
    "        return False\n",
    "def result_draw(grid):\n",
    "    full = True\n",
    "    for mark in grid:\n",
    "        if mark == ' ':\n",
    "            full = False \n",
    "            break\n",
    "    return full\n",
    "turn = 0 \n",
    "def Game():\n",
    "    #게임 활용 변수\n",
    "    cell_size = 200\n",
    "    column_count = 3\n",
    "    row_count = 3\n",
    "    x_win = 1\n",
    "    o_win = 2\n",
    "    draw = 3\n",
    "    game_over = 0\n",
    "    global done, turn, grid\n",
    "    while not done:\n",
    "        clock.tick(30)\n",
    "        game_screen.fill(white)\n",
    "        for event in pygame.event.get():\n",
    "            if event.type == pygame.QUIT:\n",
    "                done=True\n",
    "            elif event.type == pygame.MOUSEBUTTONDOWN:\n",
    "                if turn == 0:\n",
    "                    c_idx = event.pos[0] // cell_size\n",
    "                    r_idx = event.pos[1] // cell_size\n",
    "                    position = c_idx + 3 * r_idx\n",
    "                    if result(grid, position):\n",
    "                        grid[position] = 'X'\n",
    "                        if winner(grid, 'X'):\n",
    "                            print('X 가 이겼어요!!.')\n",
    "                            game_over = x_win \n",
    "                            break\n",
    "                        elif result_draw(grid):\n",
    "                            print('무승부에요.')\n",
    "                            game_over = draw \n",
    "                            break\n",
    "                        turn += 1\n",
    "                        turn = turn % 2\n",
    "                else:       \n",
    "                    c_idx = event.pos[0] // cell_size\n",
    "                    r_idx = event.pos[1] // cell_size\n",
    "                    position = c_idx + 3 * r_idx\n",
    "                    if result(grid, position):\n",
    "                        grid[position] = 'O'   \n",
    "                        if winner(grid, 'O'):\n",
    "                            print('O 가 이겼어요!!.')\n",
    "                            game_over = o_win \n",
    "                            break\n",
    "                        elif result_draw(grid):\n",
    "                            print('무승부에요.')\n",
    "                            game_over = draw \n",
    "                            break\n",
    "                        turn += 1\n",
    "                        turn = turn % 2\n",
    "            #화면 그리기\n",
    "            for c_idx in range(column_count):\n",
    "                for r_idx in range(row_count):\n",
    "                    rect = (cell_size * c_idx, cell_size * r_idx, cell_size, cell_size)\n",
    "                    pygame.draw.rect(game_screen, black, rect, 5)\n",
    "            for c_idx in range(column_count):\n",
    "                for r_idx in range(row_count):\n",
    "                    position = c_idx + 3 * r_idx\n",
    "                    mark = grid[position]\n",
    "                    if mark == 'X':\n",
    "                        X_image = gaming_representation.render('{}'.format('X'), True, red)\n",
    "                        game_screen.blit(X_image, (cell_size * c_idx + 65, cell_size * r_idx + 45)) \n",
    "                    elif mark == 'O':\n",
    "                        O_image = gaming_representation.render('{}'.format('O'), True, blue)\n",
    "                        game_screen.blit(O_image, (cell_size * c_idx + 65, cell_size * r_idx + 45))\n",
    "            if not game_over: \n",
    "                pass\n",
    "            else:\n",
    "                if game_over == x_win:\n",
    "                    game_over_image = end_game_representation.render('X wins', True, green)\n",
    "                elif game_over == o_win:\n",
    "                    game_over_image = end_game_representation.render('O wins', True, green)\n",
    "                else:\n",
    "                    game_over_image = end_game_representation.render('draw', True, green)\n",
    "                game_screen.blit(game_over_image, (600 // 2 - game_over_image.get_width() // 2, 600 // 2 - game_over_image.get_height() // 2))\n",
    "            pygame.display.update() #모든 화면 그리기 업데이트\n",
    "            \n",
    "Game()\n",
    "pygame.quit()"
   ]
  },
  {
   "cell_type": "code",
   "execution_count": null,
   "id": "b8e1ea5e-79c2-4673-84a9-5b013223cf14",
   "metadata": {},
   "outputs": [],
   "source": []
  }
 ],
 "metadata": {
  "kernelspec": {
   "display_name": "Python 3 (ipykernel)",
   "language": "python",
   "name": "python3"
  },
  "language_info": {
   "codemirror_mode": {
    "name": "ipython",
    "version": 3
   },
   "file_extension": ".py",
   "mimetype": "text/x-python",
   "name": "python",
   "nbconvert_exporter": "python",
   "pygments_lexer": "ipython3",
   "version": "3.9.12"
  }
 },
 "nbformat": 4,
 "nbformat_minor": 5
}
